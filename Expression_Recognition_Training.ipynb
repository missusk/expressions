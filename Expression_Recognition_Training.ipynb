{
  "cells": [
    {
      "cell_type": "code",
      "execution_count": null,
      "metadata": {
        "id": "8_6K1O3-NO5J"
      },
      "outputs": [],
      "source": [
        "!wget https://www.dropbox.com/s/si11cws2pyho1bp/archive.zip"
      ]
    },
    {
      "cell_type": "code",
      "execution_count": null,
      "metadata": {
        "id": "BQT_DQsTPDzB"
      },
      "outputs": [],
      "source": [
        "!unzip -q \"/content/archive.zip\""
      ]
    },
    {
      "cell_type": "code",
      "execution_count": null,
      "metadata": {
        "id": "bbucsZPQhcps"
      },
      "outputs": [],
      "source": [
        "import tensorflow as tf\n",
        "import numpy as np\n",
        "import matplotlib.pyplot as plt\n",
        "from pathlib import Path\n",
        "\n",
        "tf.random.set_seed(4)"
      ]
    },
    {
      "cell_type": "code",
      "execution_count": null,
      "metadata": {
        "id": "2USniwjMjJlq"
      },
      "outputs": [],
      "source": [
        "train_path = Path(\"/content/train\")\n",
        "test_path = Path(\"/content/test\")"
      ]
    },
    {
      "cell_type": "code",
      "execution_count": null,
      "metadata": {
        "id": "CY8kbQwokLyR"
      },
      "outputs": [],
      "source": [
        "#extracting image paths for train dataset\n",
        "train_image_paths = list(train_path.glob(\"*/*\"))\n",
        "train_image_paths = list(map(lambda x : str(x) , train_image_paths))"
      ]
    },
    {
      "cell_type": "code",
      "execution_count": null,
      "metadata": {
        "id": "nHGWNSp8kcLr"
      },
      "outputs": [],
      "source": [
        "#extracting label(expression) for each image in train dataset\n",
        "def extract_label(image_path):\n",
        "    return image_path.split(\"/\")[-2]\n",
        "train_image_labels = list(map(lambda image : extract_label(image) , train_image_paths))"
      ]
    },
    {
      "cell_type": "code",
      "execution_count": null,
      "metadata": {
        "colab": {
          "base_uri": "https://localhost:8080/"
        },
        "id": "DtBFz9NfknrJ",
        "outputId": "a4522dfd-e1ac-4b68-fbfb-fd1017b64222"
      },
      "outputs": [
        {
          "data": {
            "text/plain": [
              "array([1, 1, 1, 1, 1, 1, 1, 1, 1, 1])"
            ]
          },
          "execution_count": 30,
          "metadata": {},
          "output_type": "execute_result"
        }
      ],
      "source": [
        "from sklearn.preprocessing import LabelEncoder \n",
        "\n",
        "Le = LabelEncoder()\n",
        "train_image_labels = Le.fit_transform(train_image_labels)\n",
        "\n",
        "train_image_labels[:10]"
      ]
    },
    {
      "cell_type": "code",
      "execution_count": null,
      "metadata": {
        "id": "HS6UTHa7T-Et"
      },
      "outputs": [],
      "source": [
        "#switching label to vector input as multiclass labels are there\n",
        "train_image_labels = tf.keras.utils.to_categorical(train_image_labels)"
      ]
    },
    {
      "cell_type": "code",
      "execution_count": null,
      "metadata": {
        "id": "Ji1Weit-lVDU"
      },
      "outputs": [],
      "source": [
        "from sklearn.model_selection import train_test_split \n",
        "Train_paths , Val_paths , Train_labels , Val_labels = train_test_split(train_image_paths , train_image_labels , test_size = 0.25)"
      ]
    },
    {
      "cell_type": "code",
      "execution_count": null,
      "metadata": {
        "colab": {
          "base_uri": "https://localhost:8080/"
        },
        "id": "VTaelfZtZ27-",
        "outputId": "3e7b5868-469a-4acc-9b62-5fb26530475b"
      },
      "outputs": [
        {
          "name": "stdout",
          "output_type": "stream",
          "text": [
            "{0: 1.861871, 1: 17.501587, 2: 1.7975221, 3: 1.0, 4: 1.4823878, 5: 1.523349, 6: 2.3590074}\n"
          ]
        }
      ],
      "source": [
        "# Compute class weights \n",
        "\n",
        "classTotals = Train_labels.sum(axis=0)\n",
        "classWeight = classTotals.max() / classTotals\n",
        "\n",
        "class_weight = {e : weight for e , weight in enumerate(classWeight)}\n",
        "print(class_weight)"
      ]
    },
    {
      "cell_type": "code",
      "execution_count": null,
      "metadata": {
        "id": "WayfB4DUlwwP"
      },
      "outputs": [],
      "source": [
        "# Function used for Transformation\n",
        "\n",
        "def load(image , label):\n",
        "    image = tf.io.read_file(image)\n",
        "    image = tf.io.decode_jpeg(image , channels = 3)\n",
        "    return image , label"
      ]
    },
    {
      "cell_type": "code",
      "execution_count": null,
      "metadata": {
        "id": "4oJwdwPnR2iI"
      },
      "outputs": [],
      "source": [
        "# Define IMAGE SIZE and BATCH SIZE \n",
        "IMG_SIZE = 96 \n",
        "BATCH_SIZE = 32\n",
        "\n",
        "# Basic Transformation\n",
        "resize = tf.keras.Sequential([\n",
        "    tf.keras.layers.experimental.preprocessing.Resizing(IMG_SIZE, IMG_SIZE)          \n",
        "])\n",
        "\n",
        "# Data Augmentation\n",
        "data_augmentation = tf.keras.Sequential([\n",
        "    tf.keras.layers.experimental.preprocessing.RandomFlip(\"horizontal\"),\n",
        "    tf.keras.layers.experimental.preprocessing.RandomRotation(0.1),\n",
        "    tf.keras.layers.experimental.preprocessing.RandomZoom(height_factor = (-0.1, -0.05))\n",
        "])"
      ]
    },
    {
      "cell_type": "code",
      "execution_count": null,
      "metadata": {
        "id": "rR4A_FLKl9Cp"
      },
      "outputs": [],
      "source": [
        "# Function used to Create a Tensorflow Data Object\n",
        "AUTOTUNE = tf.data.experimental.AUTOTUNE\n",
        "def get_dataset(paths , labels , train = True):\n",
        "    image_paths = tf.convert_to_tensor(paths)\n",
        "    labels = tf.convert_to_tensor(labels)\n",
        "\n",
        "    image_dataset = tf.data.Dataset.from_tensor_slices(image_paths)\n",
        "    label_dataset = tf.data.Dataset.from_tensor_slices(labels)\n",
        "\n",
        "    dataset = tf.data.Dataset.zip((image_dataset , label_dataset))\n",
        "\n",
        "    dataset = dataset.map(lambda image , label : load(image , label))\n",
        "    dataset = dataset.map(lambda image, label: (resize(image), label) , num_parallel_calls=AUTOTUNE)\n",
        "    dataset = dataset.shuffle(1000)\n",
        "    dataset = dataset.batch(BATCH_SIZE)\n",
        "\n",
        "    if train:\n",
        "        dataset = dataset.map(lambda image, label: (data_augmentation(image), label) , num_parallel_calls=AUTOTUNE)\n",
        "    \n",
        "    dataset = dataset.repeat()\n",
        "    return dataset"
      ]
    },
    {
      "cell_type": "code",
      "execution_count": null,
      "metadata": {
        "colab": {
          "base_uri": "https://localhost:8080/"
        },
        "id": "eXbkOIjjoZo4",
        "outputId": "c4fc4629-15e9-427e-f94e-d28471125e3f"
      },
      "outputs": [
        {
          "name": "stdout",
          "output_type": "stream",
          "text": [
            "CPU times: user 303 ms, sys: 1.89 ms, total: 305 ms\n",
            "Wall time: 305 ms\n",
            "(32, 96, 96, 3)\n",
            "(32, 7)\n"
          ]
        }
      ],
      "source": [
        "# Creating Train Dataset object and Verifying it\n",
        "%time train_dataset = get_dataset(Train_paths , Train_labels)\n",
        "\n",
        "image , label = next(iter(train_dataset))\n",
        "print(image.shape)\n",
        "print(label.shape)"
      ]
    },
    {
      "cell_type": "code",
      "execution_count": null,
      "metadata": {
        "colab": {
          "base_uri": "https://localhost:8080/",
          "height": 303
        },
        "id": "qmEunSLQrmoy",
        "outputId": "87f710ce-c63f-4325-8f06-868a69e6baca"
      },
      "outputs": [
        {
          "name": "stdout",
          "output_type": "stream",
          "text": [
            "5\n"
          ]
        },
        {
          "data": {
            "text/plain": [
              "<matplotlib.image.AxesImage at 0x7f2ec002ef50>"
            ]
          },
          "execution_count": 38,
          "metadata": {},
          "output_type": "execute_result"
        },
        {
          "data": {
            "image/png": "[encoded data removed]",
            "text/plain": [
              "<Figure size 432x288 with 1 Axes>"
            ]
          },
          "metadata": {},
          "output_type": "display_data"
        }
      ],
      "source": [
        "# View a sample Training Image\n",
        "print(Le.inverse_transform(np.argmax(label , axis = 1))[0])\n",
        "plt.imshow((image[0].numpy()/255).reshape(96 , 96 , 3))"
      ]
    },
    {
      "cell_type": "code",
      "execution_count": null,
      "metadata": {
        "colab": {
          "base_uri": "https://localhost:8080/"
        },
        "id": "Xi9IJStcoc6M",
        "outputId": "acc38aa2-d70a-4430-d88a-e14ce1a0e6f8"
      },
      "outputs": [
        {
          "name": "stdout",
          "output_type": "stream",
          "text": [
            "CPU times: user 52.6 ms, sys: 0 ns, total: 52.6 ms\n",
            "Wall time: 52.1 ms\n",
            "(32, 96, 96, 3)\n",
            "(32, 7)\n"
          ]
        }
      ],
      "source": [
        "%time val_dataset = get_dataset(Val_paths , Val_labels , train = False)\n",
        "\n",
        "image , label = next(iter(val_dataset))\n",
        "print(image.shape)\n",
        "print(label.shape)"
      ]
    },
    {
      "cell_type": "code",
      "execution_count": null,
      "metadata": {
        "colab": {
          "base_uri": "https://localhost:8080/",
          "height": 303
        },
        "id": "b_gqj-vjvErp",
        "outputId": "7828cefb-fdc7-48e4-80e0-9810f410c6c5"
      },
      "outputs": [
        {
          "name": "stdout",
          "output_type": "stream",
          "text": [
            "3\n"
          ]
        },
        {
          "data": {
            "text/plain": [
              "<matplotlib.image.AxesImage at 0x7f2ec00cd550>"
            ]
          },
          "execution_count": 40,
          "metadata": {},
          "output_type": "execute_result"
        },
        {
          "data": {
            "image/png": "[encoded data removed]",
            "text/plain": [
              "<Figure size 432x288 with 1 Axes>"
            ]
          },
          "metadata": {},
          "output_type": "display_data"
        }
      ],
      "source": [
        "# View a sample Validation Image\n",
        "print(Le.inverse_transform(np.argmax(label , axis = 1))[0])\n",
        "plt.imshow((image[0].numpy()/255).reshape(96 , 96 , 3))"
      ]
    },
    {
      "cell_type": "code",
      "execution_count": null,
      "metadata": {
        "colab": {
          "base_uri": "https://localhost:8080/"
        },
        "id": "9e32BWRjUuV6",
        "outputId": "edd479b9-26b9-4eb9-a258-5b9c98b60b32"
      },
      "outputs": [
        {
          "name": "stdout",
          "output_type": "stream",
          "text": [
            "Downloading data from https://storage.googleapis.com/keras-applications/efficientnetb2_notop.h5\n",
            "31793152/31790344 [==============================] - 1s 0us/step\n",
            "31801344/31790344 [==============================] - 1s 0us/step\n",
            "Model: \"sequential_4\"\n",
            "_________________________________________________________________\n",
            " Layer (type)                Output Shape              Param #   \n",
            "=================================================================\n",
            " efficientnetb2 (Functional)  (None, 3, 3, 1408)       7768569   \n",
            "                                                                 \n",
            " global_average_pooling2d (G  (None, 1408)             0         \n",
            " lobalAveragePooling2D)                                          \n",
            "                                                                 \n",
            " dropout (Dropout)           (None, 1408)              0         \n",
            "                                                                 \n",
            " dense (Dense)               (None, 128)               180352    \n",
            "                                                                 \n",
            " dense_1 (Dense)             (None, 7)                 903       \n",
            "                                                                 \n",
            "=================================================================\n",
            "Total params: 7,949,824\n",
            "Trainable params: 7,882,249\n",
            "Non-trainable params: 67,575\n",
            "_________________________________________________________________\n"
          ]
        }
      ],
      "source": [
        "# Building EfficientNet model\n",
        "from tensorflow.keras.applications import EfficientNetB2\n",
        "\n",
        "backbone = EfficientNetB2(\n",
        "    input_shape=(96, 96, 3),\n",
        "    include_top=False\n",
        ")\n",
        "\n",
        "model = tf.keras.Sequential([\n",
        "    backbone,\n",
        "    tf.keras.layers.GlobalAveragePooling2D(),\n",
        "    tf.keras.layers.Dropout(0.3),\n",
        "    tf.keras.layers.Dense(128, activation='relu'),\n",
        "    tf.keras.layers.Dense(7, activation='softmax')\n",
        "])\n",
        "\n",
        "model.summary()"
      ]
    },
    {
      "cell_type": "code",
      "execution_count": null,
      "metadata": {
        "id": "crnP0rolUy0O"
      },
      "outputs": [],
      "source": [
        "# Compiling your model by providing the Optimizer , Loss and Metrics\n",
        "model.compile(\n",
        "    optimizer=tf.keras.optimizers.Adam(learning_rate=0.001, beta_1=0.9, beta_2=0.999, epsilon=1e-07),\n",
        "    loss = 'categorical_crossentropy',\n",
        "    metrics=['accuracy' , tf.keras.metrics.Precision(name='precision'),tf.keras.metrics.Recall(name='recall')]\n",
        ")"
      ]
    },
    {
      "cell_type": "code",
      "execution_count": null,
      "metadata": {
        "colab": {
          "base_uri": "https://localhost:8080/"
        },
        "id": "bATVPoL4xtyJ",
        "outputId": "67d9a140-55d5-4439-d3b4-43d7a70431b7"
      },
      "outputs": [
        {
          "name": "stdout",
          "output_type": "stream",
          "text": [
            "Epoch 1/12\n",
            "672/672 [==============================] - 119s 140ms/step - loss: 2.8950 - accuracy: 0.3882 - precision: 0.6482 - recall: 0.1784 - val_loss: 1.4040 - val_accuracy: 0.4701 - val_precision: 0.6460 - val_recall: 0.3047\n",
            "Epoch 2/12\n",
            "672/672 [==============================] - 93s 136ms/step - loss: 2.5297 - accuracy: 0.4697 - precision: 0.6783 - recall: 0.2583 - val_loss: 1.3020 - val_accuracy: 0.5261 - val_precision: 0.6757 - val_recall: 0.3694\n",
            "Epoch 3/12\n",
            "672/672 [==============================] - 92s 137ms/step - loss: 2.3053 - accuracy: 0.5201 - precision: 0.7025 - recall: 0.3233 - val_loss: 1.2583 - val_accuracy: 0.5321 - val_precision: 0.7063 - val_recall: 0.3499\n",
            "Epoch 4/12\n",
            "672/672 [==============================] - 91s 136ms/step - loss: 2.2108 - accuracy: 0.5346 - precision: 0.7105 - recall: 0.3458 - val_loss: 1.2502 - val_accuracy: 0.5511 - val_precision: 0.6611 - val_recall: 0.4460\n",
            "Epoch 5/12\n",
            "672/672 [==============================] - 91s 136ms/step - loss: 2.0985 - accuracy: 0.5570 - precision: 0.7226 - recall: 0.3722 - val_loss: 1.1976 - val_accuracy: 0.5391 - val_precision: 0.6781 - val_recall: 0.3876\n",
            "Epoch 6/12\n",
            "672/672 [==============================] - 91s 135ms/step - loss: 2.0781 - accuracy: 0.5586 - precision: 0.7217 - recall: 0.3820 - val_loss: 1.1301 - val_accuracy: 0.5695 - val_precision: 0.7530 - val_recall: 0.3631\n",
            "Epoch 7/12\n",
            "672/672 [==============================] - 92s 136ms/step - loss: 1.9864 - accuracy: 0.5757 - precision: 0.7325 - recall: 0.4022 - val_loss: 1.1746 - val_accuracy: 0.5664 - val_precision: 0.7218 - val_recall: 0.3789\n",
            "Epoch 8/12\n",
            "672/672 [==============================] - 92s 136ms/step - loss: 1.9318 - accuracy: 0.5866 - precision: 0.7314 - recall: 0.4267 - val_loss: 1.0930 - val_accuracy: 0.5875 - val_precision: 0.7047 - val_recall: 0.4651\n",
            "Epoch 9/12\n",
            "672/672 [==============================] - 92s 137ms/step - loss: 1.8522 - accuracy: 0.5999 - precision: 0.7356 - recall: 0.4445 - val_loss: 1.1681 - val_accuracy: 0.5717 - val_precision: 0.6869 - val_recall: 0.4181\n",
            "Epoch 10/12\n",
            "672/672 [==============================] - 91s 136ms/step - loss: 1.8369 - accuracy: 0.6025 - precision: 0.7337 - recall: 0.4501 - val_loss: 1.2879 - val_accuracy: 0.5410 - val_precision: 0.6380 - val_recall: 0.4371\n",
            "Epoch 11/12\n",
            "672/672 [==============================] - 92s 137ms/step - loss: 1.8135 - accuracy: 0.6067 - precision: 0.7426 - recall: 0.4569 - val_loss: 1.0814 - val_accuracy: 0.5950 - val_precision: 0.7057 - val_recall: 0.4660\n",
            "Epoch 12/12\n",
            "672/672 [==============================] - 92s 137ms/step - loss: 1.7279 - accuracy: 0.6215 - precision: 0.7503 - recall: 0.4795 - val_loss: 1.0852 - val_accuracy: 0.6021 - val_precision: 0.6984 - val_recall: 0.4898\n"
          ]
        }
      ],
      "source": [
        "# Train the model\n",
        "history = model.fit(\n",
        "    train_dataset,\n",
        "    steps_per_epoch=len(Train_paths)//BATCH_SIZE,\n",
        "    epochs=12,\n",
        "    validation_data=val_dataset,\n",
        "    validation_steps = len(Val_paths)//BATCH_SIZE,\n",
        "    class_weight=class_weight\n",
        ")"
      ]
    },
    {
      "cell_type": "code",
      "execution_count": null,
      "metadata": {
        "id": "28vylx4DyDBS"
      },
      "outputs": [],
      "source": [
        "model.layers[0].trainable = False"
      ]
    },
    {
      "cell_type": "code",
      "execution_count": null,
      "metadata": {
        "id": "U8r6G0RVU3c2"
      },
      "outputs": [],
      "source": [
        "# Defining our callbacks \n",
        "checkpoint = tf.keras.callbacks.ModelCheckpoint(\"best_weights.h5\",verbose=1,save_best_only=True,save_weights_only = True)\n",
        "early_stop = tf.keras.callbacks.EarlyStopping(patience=4)"
      ]
    },
    {
      "cell_type": "code",
      "execution_count": null,
      "metadata": {
        "colab": {
          "base_uri": "https://localhost:8080/"
        },
        "id": "Gn0a29MW0s5c",
        "outputId": "b16f1119-6107-4acc-f602-614ad30504d8"
      },
      "outputs": [
        {
          "name": "stdout",
          "output_type": "stream",
          "text": [
            "Model: \"sequential_4\"\n",
            "_________________________________________________________________\n",
            " Layer (type)                Output Shape              Param #   \n",
            "=================================================================\n",
            " efficientnetb2 (Functional)  (None, 3, 3, 1408)       7768569   \n",
            "                                                                 \n",
            " global_average_pooling2d (G  (None, 1408)             0         \n",
            " lobalAveragePooling2D)                                          \n",
            "                                                                 \n",
            " dropout (Dropout)           (None, 1408)              0         \n",
            "                                                                 \n",
            " dense (Dense)               (None, 128)               180352    \n",
            "                                                                 \n",
            " dense_1 (Dense)             (None, 7)                 903       \n",
            "                                                                 \n",
            "=================================================================\n",
            "Total params: 7,949,824\n",
            "Trainable params: 181,255\n",
            "Non-trainable params: 7,768,569\n",
            "_________________________________________________________________\n"
          ]
        }
      ],
      "source": [
        "model.summary()"
      ]
    },
    {
      "cell_type": "code",
      "execution_count": null,
      "metadata": {
        "colab": {
          "background_save": true,
          "base_uri": "https://localhost:8080/"
        },
        "id": "1IeOU2kKU5OT",
        "outputId": "50d41acf-2e4e-4b89-e1de-ae198d5966f5"
      },
      "outputs": [
        {
          "name": "stdout",
          "output_type": "stream",
          "text": [
            "Epoch 1/8\n",
            "672/672 [==============================] - ETA: 0s - loss: 1.6839 - accuracy: 0.6270 - precision: 0.7509 - recall: 0.4931\n",
            "Epoch 1: val_loss improved from inf to 1.07435, saving model to best_weights.h5\n",
            "672/672 [==============================] - 91s 135ms/step - loss: 1.6839 - accuracy: 0.6270 - precision: 0.7509 - recall: 0.4931 - val_loss: 1.0743 - val_accuracy: 0.5965 - val_precision: 0.7045 - val_recall: 0.4792\n",
            "Epoch 2/8\n",
            "672/672 [==============================] - ETA: 0s - loss: 1.6584 - accuracy: 0.6387 - precision: 0.7540 - recall: 0.5002\n",
            "Epoch 2: val_loss did not improve from 1.07435\n",
            "672/672 [==============================] - 90s 134ms/step - loss: 1.6584 - accuracy: 0.6387 - precision: 0.7540 - recall: 0.5002 - val_loss: 1.0947 - val_accuracy: 0.5992 - val_precision: 0.7085 - val_recall: 0.4873\n",
            "Epoch 3/8\n",
            "672/672 [==============================] - ETA: 0s - loss: 1.6109 - accuracy: 0.6459 - precision: 0.7590 - recall: 0.5203\n",
            "Epoch 3: val_loss did not improve from 1.07435\n",
            "672/672 [==============================] - 91s 136ms/step - loss: 1.6109 - accuracy: 0.6459 - precision: 0.7590 - recall: 0.5203 - val_loss: 1.2151 - val_accuracy: 0.5758 - val_precision: 0.6451 - val_recall: 0.4872\n",
            "Epoch 4/8\n",
            "672/672 [==============================] - ETA: 0s - loss: 1.5844 - accuracy: 0.6496 - precision: 0.7672 - recall: 0.5247\n",
            "Epoch 4: val_loss improved from 1.07435 to 1.07007, saving model to best_weights.h5\n",
            "672/672 [==============================] - 90s 135ms/step - loss: 1.5844 - accuracy: 0.6496 - precision: 0.7672 - recall: 0.5247 - val_loss: 1.0701 - val_accuracy: 0.6108 - val_precision: 0.6953 - val_recall: 0.5160\n",
            "Epoch 5/8\n",
            "672/672 [==============================] - ETA: 0s - loss: 1.5515 - accuracy: 0.6530 - precision: 0.7607 - recall: 0.5329\n",
            "Epoch 5: val_loss improved from 1.07007 to 1.03527, saving model to best_weights.h5\n",
            "672/672 [==============================] - 91s 135ms/step - loss: 1.5515 - accuracy: 0.6530 - precision: 0.7607 - recall: 0.5329 - val_loss: 1.0353 - val_accuracy: 0.6270 - val_precision: 0.7117 - val_recall: 0.5377\n",
            "Epoch 6/8\n",
            "672/672 [==============================] - ETA: 0s - loss: 1.5004 - accuracy: 0.6655 - precision: 0.7629 - recall: 0.5537\n",
            "Epoch 6: val_loss did not improve from 1.03527\n",
            "672/672 [==============================] - 91s 135ms/step - loss: 1.5004 - accuracy: 0.6655 - precision: 0.7629 - recall: 0.5537 - val_loss: 1.0546 - val_accuracy: 0.6237 - val_precision: 0.7019 - val_recall: 0.5403\n",
            "Epoch 7/8\n",
            "672/672 [==============================] - ETA: 0s - loss: 1.5085 - accuracy: 0.6671 - precision: 0.7689 - recall: 0.5512\n",
            "Epoch 7: val_loss did not improve from 1.03527\n",
            "672/672 [==============================] - 91s 135ms/step - loss: 1.5085 - accuracy: 0.6671 - precision: 0.7689 - recall: 0.5512 - val_loss: 1.1036 - val_accuracy: 0.5995 - val_precision: 0.6841 - val_recall: 0.5015\n",
            "Epoch 8/8\n",
            "672/672 [==============================] - ETA: 0s - loss: 1.4486 - accuracy: 0.6805 - precision: 0.7772 - recall: 0.5711\n",
            "Epoch 8: val_loss did not improve from 1.03527\n",
            "672/672 [==============================] - 91s 135ms/step - loss: 1.4486 - accuracy: 0.6805 - precision: 0.7772 - recall: 0.5711 - val_loss: 1.1031 - val_accuracy: 0.6097 - val_precision: 0.6834 - val_recall: 0.5321\n"
          ]
        }
      ],
      "source": [
        "# Train the model\n",
        "history = model.fit(\n",
        "    train_dataset,\n",
        "    steps_per_epoch=len(Train_paths)//BATCH_SIZE,\n",
        "    epochs=8,\n",
        "    callbacks=[checkpoint , early_stop],\n",
        "    validation_data=val_dataset,\n",
        "    validation_steps = len(Val_paths)//BATCH_SIZE,\n",
        "    class_weight=class_weight\n",
        ")"
      ]
    },
    {
      "cell_type": "markdown",
      "metadata": {
        "id": "vU6Sq7xag7t8"
      },
      "source": [
        "Testing Phase"
      ]
    },
    {
      "cell_type": "code",
      "execution_count": null,
      "metadata": {
        "id": "71WlFdcafnAc"
      },
      "outputs": [],
      "source": [
        "from tensorflow.keras.applications import EfficientNetB2\n",
        "\n",
        "backbone = EfficientNetB2(\n",
        "    input_shape=(96, 96, 3),\n",
        "    include_top=False\n",
        ")\n",
        "\n",
        "model = tf.keras.Sequential([\n",
        "    backbone,\n",
        "    tf.keras.layers.GlobalAveragePooling2D(),\n",
        "    tf.keras.layers.Dropout(0.3),\n",
        "    tf.keras.layers.Dense(128, activation='relu'),\n",
        "    tf.keras.layers.Dense(7, activation='softmax')\n",
        "])\n",
        "\n",
        "model.compile(\n",
        "    optimizer=tf.keras.optimizers.Adam(learning_rate=0.001, beta_1=0.9, beta_2=0.999, epsilon=1e-07),\n",
        "    loss = 'categorical_crossentropy',\n",
        "    metrics=['accuracy' , tf.keras.metrics.Precision(name='precision'),tf.keras.metrics.Recall(name='recall')]\n",
        ")"
      ]
    },
    {
      "cell_type": "code",
      "execution_count": null,
      "metadata": {
        "id": "kh91u_fgyKyL"
      },
      "outputs": [],
      "source": [
        "model.load_weights(\"best_weights.h5\")"
      ]
    },
    {
      "cell_type": "code",
      "execution_count": null,
      "metadata": {
        "id": "zaIUk_NRVJVJ"
      },
      "outputs": [],
      "source": [
        "# Create a Dataset Object for 'Testing' Set just the way we did for Training and Validation\n",
        "test_image_paths = list(test_path.glob(\"*/*\"))\n",
        "test_image_paths = list(map(lambda x : str(x) , test_image_paths))\n",
        "test_labels = list(map(lambda x : get_label(x) , test_image_paths))\n",
        "\n",
        "test_labels = Le.transform(test_labels)\n",
        "test_labels = tf.keras.utils.to_categorical(test_labels)\n",
        "\n",
        "test_image_paths = tf.convert_to_tensor(test_image_paths)\n",
        "test_labels = tf.convert_to_tensor(test_labels)\n",
        "\n",
        "def decode_image(image , label):\n",
        "    image = tf.io.read_file(image)\n",
        "    image = tf.io.decode_jpeg(image , channels = 3)\n",
        "    image = tf.image.resize(image , [96 , 96] , method=\"bilinear\")\n",
        "    return image , label\n",
        "\n",
        "test_dataset = (\n",
        "     tf.data.Dataset\n",
        "    .from_tensor_slices((test_image_paths, test_labels))\n",
        "    .map(decode_image)\n",
        "    .batch(BATCH_SIZE)\n",
        ")"
      ]
    },
    {
      "cell_type": "code",
      "execution_count": null,
      "metadata": {
        "colab": {
          "base_uri": "https://localhost:8080/"
        },
        "id": "uBIDOhxee0My",
        "outputId": "907c4b20-1a2e-4ab6-bd73-63b741f027bc"
      },
      "outputs": [
        {
          "name": "stdout",
          "output_type": "stream",
          "text": [
            "(32, 96, 96, 3)\n",
            "(32, 7)\n"
          ]
        }
      ],
      "source": [
        "# Verify Test Dataset Object\n",
        "image , label = next(iter(test_dataset))\n",
        "print(image.shape)\n",
        "print(label.shape)"
      ]
    },
    {
      "cell_type": "code",
      "execution_count": null,
      "metadata": {
        "colab": {
          "base_uri": "https://localhost:8080/",
          "height": 302
        },
        "id": "4ZGD3ogge2V-",
        "outputId": "4cda3bbf-c659-4167-be25-0add08b6befc"
      },
      "outputs": [
        {
          "name": "stdout",
          "output_type": "stream",
          "text": [
            "disgust\n"
          ]
        },
        {
          "data": {
            "text/plain": [
              "<matplotlib.image.AxesImage at 0x7fdd83fbaad0>"
            ]
          },
          "execution_count": 29,
          "metadata": {
            "tags": []
          },
          "output_type": "execute_result"
        },
        {
          "data": {
            "image/png": "[encoded data removed]",
            "text/plain": [
              "<Figure size 432x288 with 1 Axes>"
            ]
          },
          "metadata": {
            "tags": []
          },
          "output_type": "display_data"
        }
      ],
      "source": [
        "# View a sample Validation Image\n",
        "print(Le.inverse_transform(np.argmax(label , axis = 1))[0])\n",
        "plt.imshow((image[0].numpy()/255).reshape(96 , 96 , 3))"
      ]
    },
    {
      "cell_type": "code",
      "execution_count": null,
      "metadata": {
        "colab": {
          "base_uri": "https://localhost:8080/"
        },
        "id": "H8nmdlL5e4LB",
        "outputId": "6c223304-4c62-4410-b267-ad9c0b3dc357"
      },
      "outputs": [
        {
          "name": "stdout",
          "output_type": "stream",
          "text": [
            "225/225 [==============================] - 9s 26ms/step - loss: 1.1528 - accuracy: 0.5663 - precision: 0.6564 - recall: 0.4516\n",
            " Testing Acc :  0.622596800327301\n",
            " Testing Precision  0.7180851101875305\n",
            " Testing Recall  0.5266090631484985\n"
          ]
        }
      ],
      "source": [
        "# Evaluating the loaded model\n",
        "loss, acc, prec, rec = model.evaluate(test_dataset)\n",
        "\n",
        "print(\" Testing Acc : \" , acc)\n",
        "print(\" Testing Precision \" , prec)\n",
        "print(\" Testing Recall \" , rec)"
      ]
    },
    {
      "cell_type": "markdown",
      "metadata": {
        "id": "EvKEpP1yaX8u"
      },
      "source": [
        "Save Objects"
      ]
    },
    {
      "cell_type": "code",
      "execution_count": null,
      "metadata": {
        "id": "6FG-gDVcaZgN"
      },
      "outputs": [],
      "source": [
        "# Save Model\n",
        "model.save(\"FacialExpressionModel.h5\")"
      ]
    },
    {
      "cell_type": "code",
      "execution_count": null,
      "metadata": {
        "id": "_anLO5GWadh1"
      },
      "outputs": [],
      "source": [
        "# Save Label Encoder \n",
        "import pickle\n",
        "\n",
        "def save_object(obj , name):\n",
        "    pickle_obj = open(f\"{name}.pck\",\"wb\")\n",
        "    pickle.dump(obj, pickle_obj)\n",
        "    pickle_obj.close()"
      ]
    },
    {
      "cell_type": "code",
      "execution_count": null,
      "metadata": {
        "id": "5GiwShNva4Z4"
      },
      "outputs": [],
      "source": [
        "save_object(Le, \"LabelEncoder\")"
      ]
    }
  ],
  "metadata": {
    "accelerator": "GPU",
    "colab": {
      "collapsed_sections": [],
      "name": "Expression_Recognition_Training.ipynb",
      "provenance": []
    },
    "gpuClass": "standard",
    "kernelspec": {
      "display_name": "Python 3",
      "name": "python3"
    }
  },
  "nbformat": 4,
  "nbformat_minor": 0
}